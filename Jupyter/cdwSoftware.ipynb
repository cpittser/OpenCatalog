{
 "cells": [
  {
   "cell_type": "code",
   "execution_count": null,
   "metadata": {},
   "outputs": [],
   "source": [
    "import re\n",
    "import requests\n",
    "from bs4 import BeautifulSoup\n",
    "\n",
    "base_url = 'https://www.cdw.com/'\n",
    "headers = {\n",
    "    'User-Agent': 'Mozilla/5.0 (Macintosh; Intel Mac OS X 10_15_7) AppleWebKit/605.1.15 (KHTML, like Gecko) Version/17.5 Safari/605.1.1'\n",
    "}\n",
    "\n",
    "record_count = 0\n",
    "for x in range(1, 2):\n",
    "    productlist = requests.get(f\"https://www.cdw.com/search/software/?w=F&akr=0&ShopAll=true&maxrecords=72&pcurrent={x}\", headers=headers)\n",
    "\n",
    "    print(f\"https://www.cdw.com/search/software/?w=F&akr=0&ShopAll=true&maxrecords=72&pcurrent={x}\")\n",
    "    print(productlist.status_code);\n",
    "    \n",
    "    if productlist.status_code == 200:\n",
    "        soup = BeautifulSoup(productlist.content, 'lxml')\n",
    "        products = soup.find_all('div', class_='search-result coupon-check')\n",
    "        #product = soup.find_all('div', class_='product-specs col-3')\n",
    "\n",
    "        for spec in products:\n",
    "            _name = spec.find('a', 'search-result-product-url').text.strip()\n",
    "            _manufacturer = re.search(\"(^[a-zA-Z]*)\", _name)\n",
    "            manufacturer = _manufacturer.group()\n",
    "            print(\"Manufacturer: \" + manufacturer)\n",
    "            _partnum = spec.find('span', class_='mfg-code').text.strip()\n",
    "            partnum = _partnum.strip(\"MFG#: \")\n",
    "            print(\"Part Number: \" + partnum)\n",
    "            newCore = {'manufacturer': manufacturer, 'partNumber': partnum, 'upc': '', 'category': \"Software\"}\n",
    "            x = requests.post('http://localhost:8001/api/v1/newCore', json = newCore)\n",
    "            print(x.text)\n",
    "\n",
    "            record_count = record_count + 1\n",
    "        else:\n",
    "            print(\"CDW Computer System Pull Complete........\")\n",
    "            print(\"Total Computer System Records Found: \" + str(record_count))\n",
    "\n"
   ]
  }
 ],
 "metadata": {
  "language_info": {
   "name": "python"
  }
 },
 "nbformat": 4,
 "nbformat_minor": 2
}
